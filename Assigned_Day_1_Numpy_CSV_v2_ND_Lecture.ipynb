{
  "cells": [
    {
      "cell_type": "markdown",
      "metadata": {
        "id": "KdERlTpFuL5V"
      },
      "source": [
        "# Exercises"
      ]
    },
    {
      "cell_type": "markdown",
      "metadata": {
        "id": "to-gsrQyuL5Z"
      },
      "source": [
        "### #1 - Calculate the BMI (body mass index) on the two lists below using NDArrays..."
      ]
    },
    {
      "cell_type": "code",
      "execution_count": 10,
      "metadata": {
        "id": "iZlf9DzeuL5a"
      },
      "outputs": [
        {
          "data": {
            "text/plain": [
              "array([16.86620458, 17.87755102, 18.82562984, 19.71450617, 20.54794521,\n",
              "       21.32943755, 22.06222222])"
            ]
          },
          "execution_count": 10,
          "metadata": {},
          "output_type": "execute_result"
        }
      ],
      "source": [
        "import csv \n",
        "import numpy as np\n",
        "# formula = weight / (height**2) * 730\n",
        "height = [69, 70, 71, 72, 73, 74, 75]\n",
        "weight = [110, 120, 130, 140, 150, 160, 170]\n",
        "\n",
        "arr_hieght = np.array(height)\n",
        "arr_weight = np.array(weight)\n",
        "bmi = arr_weight / (arr_hieght**2) * 730\n",
        "bmi\n"
      ]
    },
    {
      "cell_type": "markdown",
      "metadata": {
        "id": "RSsT8w8ouL5b"
      },
      "source": [
        "### #2 - Create a function that will take in two parameters and will create a random matrix based off of those parameters. Extra: Have additional parameters taken in that allow the user to choose the shape and data type of the matrix."
      ]
    },
    {
      "cell_type": "code",
      "execution_count": 17,
      "metadata": {
        "id": "ygFvj0aeuL5b"
      },
      "outputs": [
        {
          "data": {
            "text/plain": [
              "array([[5, 1, 5],\n",
              "       [1, 9, 6],\n",
              "       [1, 8, 8]])"
            ]
          },
          "execution_count": 17,
          "metadata": {},
          "output_type": "execute_result"
        }
      ],
      "source": [
        "\n",
        "def random_matrix(num1, num2,):\n",
        "    array = np.random.randint(1, 10, (num1, num2))\n",
        "    #if loop for data type inputs?\n",
        "    return array\n",
        "random_matrix(3, 3)\n",
        "\n",
        "    # dt_flt = np.random_matrix(num1, num2)\n",
        "    # dt_int = np.random_matrix((num1, num2),int) "
      ]
    },
    {
      "cell_type": "markdown",
      "metadata": {
        "id": "e5mP1UX9uL5c"
      },
      "source": [
        "### #3 - Extra: Open and load the data in the two text files that have the Boston Red Sox hitting data for the past seasons. Compare the difference in the two years by putting the data into an NDArray and running a differencial operation on it. The column to look for will be SLG.\n",
        "\n",
        "Your output should display which year (either 2017 or 2018) was a better year based on SLG"
      ]
    },
    {
      "cell_type": "code",
      "execution_count": null,
      "metadata": {
        "id": "iAExC-SjuL5c"
      },
      "outputs": [],
      "source": [
        "import csv\n",
        "import numpy as np\n",
        "\n",
        "#create a function to read csv file\n",
        "def open_csv(filename, d = ','):\n",
        "#define an empty list to store data\n",
        "    data = []\n",
        "    with open(filename, encoding = 'utf-8') as mData:\n",
        "#use the csv.reader method to create a python  list\n",
        "        info = csv.reader(mData, delimiter = d)\n",
        "        for row in info:\n",
        "            data.append(row)\n",
        "    return data\n",
        "\n",
        "csv_data = open_csv('redsox_2017_hitting.txt')\n",
        "csv_data = open_csv('redsox_2018_hitting.txt')\n",
        "print(csv_data)\n",
        "\n"
      ]
    },
    {
      "cell_type": "code",
      "execution_count": 16,
      "metadata": {
        "id": "P8Rwr8lmuL5e"
      },
      "outputs": [
        {
          "name": "stdout",
          "output_type": "stream",
          "text": [
            "Total slugging percentage for the 2017 Red Sox:  9.047\n",
            "Total slugging percentage for the 2018 Red Sox:  7.75\n",
            "The 2017 Red Sox had a better SLG percentage than the 2018 Red Sox -1.2969999\n"
          ]
        }
      ],
      "source": [
        "FIELDS = ['Rk', 'Pos', 'Name', 'Age', 'G', 'PA', 'AB', 'R', 'H', '2B', '3B', 'HR', 'RBI', 'SB', 'CS', \n",
        "          'BB', 'SO', 'BA', 'OBP', 'SLG', 'OPS', 'OPS+', 'TB', 'GDP', 'HBP', 'SH', 'SF', 'IBB']\n",
        "\n",
        "DATATYPES = [('rk', 'i'), ('pos', '|S25'), ('name', '|S25'), ('age', 'i'), ('g', 'i'), ('pa', 'i'), ('ab', 'i'),\n",
        "                ('r', 'i'), ('h', 'i'), ('2b', 'i'), ('3b', 'i'), ('hr', 'i'), ('rbi', 'i'), ('sb', 'i'), ('cs', 'i'),\n",
        "                ('bb', 'i'), ('so', 'i'), ('ba', 'f'), ('obp', 'f'), ('slg', 'f'), ('ops', 'f'), ('opsp', 'i'),\n",
        "                ('tb', 'i'), ('gdp', 'i'), ('hbp', 'i'), ('sh', 'i'), ('sf', 'i'), ('ibb', 'i')]\n",
        "\n",
        "#Use this function to actually open the data inside of a NDArray\n",
        "\n",
        "arr_fields = np.array(FIELDS)\n",
        "arr_datatypes = np.array(DATATYPES)\n",
        "def  load_data(filename, d = ','):\n",
        "    data = np.genfromtxt(filename, delimiter = d, skip_header = 1, usecols = np.arange(0, 28), invalid_raise = False,\n",
        "    names = FIELDS, dtype = DATATYPES)\n",
        "\n",
        "    return data\n",
        "\n",
        "bs2017 = load_data('redsox_2017_hitting.txt')\n",
        "slug_17 = bs2017['SLG'].sum()\n",
        "\n",
        "print('Total slugging percentage for the 2017 Red Sox: ', slug_17)\n",
        "\n",
        "\n",
        "bs2018 = load_data('redsox_2018_hitting.txt')\n",
        "slug_18 = bs2018['SLG'].sum()\n",
        "\n",
        "print('Total slugging percentage for the 2018 Red Sox: ', slug_18)\n",
        "\n",
        "\n",
        "sgl_diff = slug_18 - slug_17\n",
        "\n",
        "print('The 2017 Red Sox had a better SLG percentage than the 2018 Red Sox',sgl_diff)\n"
      ]
    }
  ],
  "metadata": {
    "colab": {
      "name": "Copy of Data_Science_Day_1_Exercises-Day1- Homework.ipynb",
      "provenance": []
    },
    "kernelspec": {
      "display_name": "Python 3.9.13 64-bit",
      "language": "python",
      "name": "python3"
    },
    "language_info": {
      "codemirror_mode": {
        "name": "ipython",
        "version": 3
      },
      "file_extension": ".py",
      "mimetype": "text/x-python",
      "name": "python",
      "nbconvert_exporter": "python",
      "pygments_lexer": "ipython3",
      "version": "3.9.13"
    },
    "vscode": {
      "interpreter": {
        "hash": "c89dac2000cd39b6c6afdbb40384525553e908a214fa5e3caa43ad6708c415f4"
      }
    }
  },
  "nbformat": 4,
  "nbformat_minor": 0
}
